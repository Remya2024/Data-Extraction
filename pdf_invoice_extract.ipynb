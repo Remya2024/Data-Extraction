{
  "nbformat": 4,
  "nbformat_minor": 0,
  "metadata": {
    "colab": {
      "provenance": []
    },
    "kernelspec": {
      "name": "python3",
      "display_name": "Python 3"
    },
    "language_info": {
      "name": "python"
    }
  },
  "cells": [
    {
      "cell_type": "code",
      "execution_count": 9,
      "metadata": {
        "colab": {
          "base_uri": "https://localhost:8080/"
        },
        "id": "5BjJQhILLVl6",
        "outputId": "16d71940-07c1-4e6b-a92c-2106339bcb0f"
      },
      "outputs": [
        {
          "output_type": "stream",
          "name": "stdout",
          "text": [
            "Requirement already satisfied: pdfplumber in /usr/local/lib/python3.11/dist-packages (0.11.5)\n",
            "Requirement already satisfied: pdfminer.six==20231228 in /usr/local/lib/python3.11/dist-packages (from pdfplumber) (20231228)\n",
            "Requirement already satisfied: Pillow>=9.1 in /usr/local/lib/python3.11/dist-packages (from pdfplumber) (11.1.0)\n",
            "Requirement already satisfied: pypdfium2>=4.18.0 in /usr/local/lib/python3.11/dist-packages (from pdfplumber) (4.30.1)\n",
            "Requirement already satisfied: charset-normalizer>=2.0.0 in /usr/local/lib/python3.11/dist-packages (from pdfminer.six==20231228->pdfplumber) (3.4.1)\n",
            "Requirement already satisfied: cryptography>=36.0.0 in /usr/local/lib/python3.11/dist-packages (from pdfminer.six==20231228->pdfplumber) (43.0.3)\n",
            "Requirement already satisfied: cffi>=1.12 in /usr/local/lib/python3.11/dist-packages (from cryptography>=36.0.0->pdfminer.six==20231228->pdfplumber) (1.17.1)\n",
            "Requirement already satisfied: pycparser in /usr/local/lib/python3.11/dist-packages (from cffi>=1.12->cryptography>=36.0.0->pdfminer.six==20231228->pdfplumber) (2.22)\n"
          ]
        }
      ],
      "source": [
        "!pip install pdfplumber"
      ]
    },
    {
      "cell_type": "code",
      "source": [],
      "metadata": {
        "id": "wQiuKQr7LcwV"
      },
      "execution_count": null,
      "outputs": []
    },
    {
      "cell_type": "code",
      "source": [
        "import requests\n",
        "import pdfplumber"
      ],
      "metadata": {
        "id": "QAPFN5QfLWCu"
      },
      "execution_count": 4,
      "outputs": []
    },
    {
      "cell_type": "code",
      "source": [
        "def download_file(url):\n",
        "    local_filename = url.split('/')[-1]\n",
        "\n",
        "    with requests.get(url) as r:\n",
        "        with open(local_filename, 'wb') as f:\n",
        "            f.write(r.content)\n",
        "\n",
        "    return local_filename"
      ],
      "metadata": {
        "id": "cL14OLs3LXHm"
      },
      "execution_count": 5,
      "outputs": []
    },
    {
      "cell_type": "code",
      "source": [
        "from google.colab import drive\n",
        "drive.mount('/content/drive')"
      ],
      "metadata": {
        "colab": {
          "base_uri": "https://localhost:8080/"
        },
        "id": "wJb6qkfrMPAd",
        "outputId": "430ce84c-bb15-4660-9a7f-c259b76067bd"
      },
      "execution_count": 10,
      "outputs": [
        {
          "output_type": "stream",
          "name": "stdout",
          "text": [
            "Mounted at /content/drive\n"
          ]
        }
      ]
    },
    {
      "cell_type": "code",
      "source": [
        "invoice ='/content/drive/My Drive/Data Source/professionalblue_example.pdf'"
      ],
      "metadata": {
        "id": "HYVG4v-gLjtO"
      },
      "execution_count": 11,
      "outputs": []
    },
    {
      "cell_type": "code",
      "source": [
        "with pdfplumber.open(invoice) as pdf:\n",
        "    page = pdf.pages[0]\n",
        "    text = page.extract_text()"
      ],
      "metadata": {
        "id": "L2HuAjYsMBsl"
      },
      "execution_count": 12,
      "outputs": []
    },
    {
      "cell_type": "code",
      "source": [
        "print(text[:200])"
      ],
      "metadata": {
        "colab": {
          "base_uri": "https://localhost:8080/"
        },
        "id": "T_3yLmzIMXwW",
        "outputId": "002eaf26-2d17-4a4a-e7da-561cdce391f6"
      },
      "execution_count": 13,
      "outputs": [
        {
          "output_type": "stream",
          "name": "stdout",
          "text": [
            "INVOICE\n",
            "Invoice No. I1083\n",
            "Account # C1006\n",
            "Date 08-14-2008\n",
            "Due By 08-31-2008\n",
            "Demo Company\n",
            "Phone : 111-222-3333 Terms None\n",
            "1234 Main Street E-Mail : 333-444-4444 PO No. PO1234\n",
            "Ashland, KY 41102 Web : ht\n"
          ]
        }
      ]
    },
    {
      "cell_type": "code",
      "source": [
        "for row in text.split('\\n'):\n",
        "    if row.startswith('Balance Due'):\n",
        "        balance = row.split()[-1]"
      ],
      "metadata": {
        "id": "UGESwj8MMZDd"
      },
      "execution_count": 14,
      "outputs": []
    },
    {
      "cell_type": "code",
      "source": [
        "balance"
      ],
      "metadata": {
        "colab": {
          "base_uri": "https://localhost:8080/",
          "height": 36
        },
        "id": "3-kHR3uXMbZN",
        "outputId": "63e4d87d-04e1-415a-fd69-3f8c816fd675"
      },
      "execution_count": 15,
      "outputs": [
        {
          "output_type": "execute_result",
          "data": {
            "text/plain": [
              "'$170.78'"
            ],
            "application/vnd.google.colaboratory.intrinsic+json": {
              "type": "string"
            }
          },
          "metadata": {},
          "execution_count": 15
        }
      ]
    }
  ]
}